{
 "cells": [
  {
   "cell_type": "code",
   "execution_count": 84,
   "id": "c15fe93f",
   "metadata": {},
   "outputs": [],
   "source": [
    "import torch\n",
    "import torch.nn as nn\n",
    "import torch.optim as optim\n",
    "from torchvision import datasets, transforms\n",
    "from torch.utils.data import DataLoader\n",
    "import torch.nn.functional as F\n",
    "from PIL import Image\n",
    "from skimage.transform import resize\n",
    "import numpy as np\n",
    "\n"
   ]
  },
  {
   "cell_type": "code",
   "execution_count": 85,
   "id": "3193f7b2",
   "metadata": {},
   "outputs": [
    {
     "name": "stdout",
     "output_type": "stream",
     "text": [
      "Using device: mps\n"
     ]
    }
   ],
   "source": [
    "device = torch.device(\"mps\") if torch.backends.mps.is_available() else torch.device(\"cpu\")\n",
    "print(f\"Using device: {device}\")"
   ]
  },
  {
   "cell_type": "markdown",
   "id": "cd86afae",
   "metadata": {},
   "source": [
    "Reading the dataset and resizing the images"
   ]
  },
  {
   "cell_type": "code",
   "execution_count": 86,
   "id": "1edcc3fe",
   "metadata": {},
   "outputs": [],
   "source": [
    "data_path = './data/parking-training-data/'"
   ]
  },
  {
   "cell_type": "code",
   "execution_count": 106,
   "id": "8e5f0741",
   "metadata": {},
   "outputs": [],
   "source": [
    "transform = transforms.Compose([\n",
    "    transforms.Resize((31, 69)),\n",
    "    transforms.ToTensor(),\n",
    "])"
   ]
  },
  {
   "cell_type": "code",
   "execution_count": 107,
   "id": "56360348",
   "metadata": {},
   "outputs": [],
   "source": [
    "dataset = datasets.ImageFolder(root=data_path, transform=transform)"
   ]
  },
  {
   "cell_type": "code",
   "execution_count": 108,
   "id": "af28dbed",
   "metadata": {},
   "outputs": [
    {
     "name": "stdout",
     "output_type": "stream",
     "text": [
      "Class to Index Mapping: {'empty': 0, 'not_empty': 1}\n"
     ]
    }
   ],
   "source": [
    "print(\"Class to Index Mapping:\", dataset.class_to_idx)  # {'empty': 0, 'non-empty': 1}"
   ]
  },
  {
   "cell_type": "code",
   "execution_count": 109,
   "id": "a4baa655",
   "metadata": {},
   "outputs": [],
   "source": [
    "train_size = int(0.8 * len(dataset))\n",
    "val_size = len(dataset)  - train_size"
   ]
  },
  {
   "cell_type": "code",
   "execution_count": 110,
   "id": "14c767cb",
   "metadata": {},
   "outputs": [],
   "source": [
    "train_dataset, val_dataset = torch.utils.data.random_split(dataset, [train_size, val_size])"
   ]
  },
  {
   "cell_type": "code",
   "execution_count": 111,
   "id": "912d1d98",
   "metadata": {},
   "outputs": [],
   "source": [
    "batch_size = 32\n",
    "train_loader = DataLoader(train_dataset, batch_size=batch_size, shuffle=True)\n",
    "val_loader = DataLoader(val_dataset, batch_size=batch_size, shuffle=True)"
   ]
  },
  {
   "cell_type": "code",
   "execution_count": 112,
   "id": "5183dcfb",
   "metadata": {},
   "outputs": [
    {
     "name": "stdout",
     "output_type": "stream",
     "text": [
      "Batch of images shape: torch.Size([32, 3, 31, 69])\n"
     ]
    }
   ],
   "source": [
    "images, labels = next(iter(train_loader))\n",
    "print(f\"Batch of images shape: {images.shape}\") # (batch_size, channels, height, width)"
   ]
  },
  {
   "cell_type": "markdown",
   "id": "e7a152cb",
   "metadata": {},
   "source": [
    "Model"
   ]
  },
  {
   "cell_type": "code",
   "execution_count": 113,
   "id": "1d816532",
   "metadata": {},
   "outputs": [],
   "source": [
    "class ParkingModel(nn.Module):\n",
    "    def __init__(self):\n",
    "        super(ParkingModel, self).__init__()\n",
    "        self.cnn1 = nn.Conv2d(3,16,kernel_size=3,stride=1, padding = 1)\n",
    "        self.maxpool1 = nn.MaxPool2d(3, stride=2)\n",
    "        self.cnn2 = nn.Conv2d(16,64,kernel_size=2,stride=1, padding = 1)\n",
    "        self.maxpool2 = nn.MaxPool2d(2, stride=2)\n",
    "        self.linear = nn.Linear(64 * 8 * 17, 128)\n",
    "        self.linear2 = nn.Linear(128, 2)\n",
    "\n",
    "    def forward(self, x):\n",
    "        x = self.maxpool1(F.relu(self.cnn1(x)))\n",
    "        x = self.maxpool2(F.relu(self.cnn2(x)))\n",
    "        x = x.view(x.size(0), -1)\n",
    "        x = F.relu(self.linear(x))\n",
    "        return self.linear2(x)"
   ]
  },
  {
   "cell_type": "code",
   "execution_count": 114,
   "id": "e2d6b7ae",
   "metadata": {},
   "outputs": [],
   "source": [
    "model = ParkingModel().to(device)\n",
    "criterion = nn.CrossEntropyLoss()\n",
    "optimizer = torch.optim.Adam(model.parameters(), lr=0.001)"
   ]
  },
  {
   "cell_type": "markdown",
   "id": "9107706b",
   "metadata": {},
   "source": [
    "Training"
   ]
  },
  {
   "cell_type": "code",
   "execution_count": 115,
   "id": "7c3b74d5",
   "metadata": {
    "scrolled": true
   },
   "outputs": [
    {
     "name": "stdout",
     "output_type": "stream",
     "text": [
      "Epoch [1/5], Loss: 0.0926\n",
      "Epoch [2/5], Loss: 0.0015\n",
      "Epoch [3/5], Loss: 0.0002\n",
      "Epoch [4/5], Loss: 0.0001\n",
      "Epoch [5/5], Loss: 0.0001\n"
     ]
    }
   ],
   "source": [
    "epochs = 5\n",
    "\n",
    "for epoch in range(epochs):\n",
    "    model.train() \n",
    "    running_loss = 0.0\n",
    "\n",
    "    for inputs, labels in train_loader:\n",
    "        inputs, labels = inputs.to(device), labels.to(device)\n",
    "\n",
    "        outputs = model(inputs)\n",
    "        loss = criterion(outputs, labels)\n",
    "\n",
    "        optimizer.zero_grad()\n",
    "        loss.backward()\n",
    "        optimizer.step()\n",
    "\n",
    "        running_loss += loss.item()\n",
    "\n",
    "    print(f\"Epoch [{epoch+1}/{epochs}], Loss: {running_loss / len(train_loader):.4f}\")\n"
   ]
  },
  {
   "cell_type": "code",
   "execution_count": 116,
   "id": "740a6fc4",
   "metadata": {},
   "outputs": [
    {
     "name": "stdout",
     "output_type": "stream",
     "text": [
      "Validation Accuracy: 100.00%\n"
     ]
    }
   ],
   "source": [
    "correct = 0\n",
    "total = 0\n",
    "\n",
    "model.eval()\n",
    "\n",
    "with torch.no_grad():\n",
    "    for inputs, labels in val_loader:\n",
    "        inputs, labels = inputs.to(device), labels.to(device)\n",
    "        outputs = model(inputs)\n",
    "        \n",
    "        _, predicted = torch.max(outputs, 1)\n",
    "        total += labels.size(0)\n",
    "        correct += (predicted == labels).sum().item()  # Count correct predictions\n",
    "\n",
    "accuracy = correct / total * 100\n",
    "print(f'Validation Accuracy: {accuracy:.2f}%')"
   ]
  },
  {
   "cell_type": "code",
   "execution_count": 117,
   "id": "e8dea8f8",
   "metadata": {},
   "outputs": [],
   "source": [
    "torch.save(model.state_dict(), \"parking_model_weights.pth\")"
   ]
  },
  {
   "cell_type": "code",
   "execution_count": 118,
   "id": "f15b8dd7",
   "metadata": {},
   "outputs": [],
   "source": [
    "def test_image(img_path):\n",
    "    img = Image.open(img_path)\n",
    "    width, height = img.size\n",
    "    transform = transforms.Compose([\n",
    "    transforms.Resize((31, 69)), \n",
    "    transforms.ToTensor(),  \n",
    "    ])\n",
    "\n",
    "    if img.mode == 'RGBA':\n",
    "        img = img.convert('RGB')\n",
    "\n",
    "    img_tensor = transform(img).unsqueeze(0).to(torch.float32).to(device)\n",
    "\n",
    "    outputs = model(img_tensor)\n",
    "        \n",
    "    _, predicted = torch.max(outputs, 1)\n",
    "\n",
    "    print(predicted)"
   ]
  },
  {
   "cell_type": "code",
   "execution_count": 119,
   "id": "19cd282a",
   "metadata": {},
   "outputs": [
    {
     "name": "stdout",
     "output_type": "stream",
     "text": [
      "tensor([0], device='mps:0')\n"
     ]
    }
   ],
   "source": [
    "test_image('./data/test.png')"
   ]
  },
  {
   "cell_type": "code",
   "execution_count": 120,
   "id": "ccc0454d",
   "metadata": {},
   "outputs": [
    {
     "name": "stdout",
     "output_type": "stream",
     "text": [
      "tensor([0], device='mps:0')\n"
     ]
    }
   ],
   "source": [
    "test_image('./data/test2.png')"
   ]
  },
  {
   "cell_type": "code",
   "execution_count": 121,
   "id": "445348dd",
   "metadata": {},
   "outputs": [
    {
     "name": "stdout",
     "output_type": "stream",
     "text": [
      "tensor([0], device='mps:0')\n"
     ]
    }
   ],
   "source": [
    "test_image('./data/parking-training-data/empty/00000000_00000161.jpg')"
   ]
  },
  {
   "cell_type": "code",
   "execution_count": 122,
   "id": "0e818f59",
   "metadata": {},
   "outputs": [
    {
     "name": "stdout",
     "output_type": "stream",
     "text": [
      "tensor([1], device='mps:0')\n"
     ]
    }
   ],
   "source": [
    "test_image('./data/parking-training-data/not_empty/00000000_00000013.jpg')"
   ]
  },
  {
   "cell_type": "code",
   "execution_count": null,
   "id": "08e319fe",
   "metadata": {},
   "outputs": [],
   "source": []
  }
 ],
 "metadata": {
  "kernelspec": {
   "display_name": "Python 3 (ipykernel)",
   "language": "python",
   "name": "python3"
  },
  "language_info": {
   "codemirror_mode": {
    "name": "ipython",
    "version": 3
   },
   "file_extension": ".py",
   "mimetype": "text/x-python",
   "name": "python",
   "nbconvert_exporter": "python",
   "pygments_lexer": "ipython3",
   "version": "3.11.5"
  }
 },
 "nbformat": 4,
 "nbformat_minor": 5
}
